{
 "cells": [
  {
   "cell_type": "markdown",
   "metadata": {},
   "source": [
    "<h2>Gebruikte pluralsight courses</h2><br>\n",
    "Introduction to Data Visualization with Python\n",
    "by YK Sugi\n",
    "https://app.pluralsight.com/library/courses/data-visualization-with-python-introduction/table-of-contents\n",
    "Gebruikt voor informatie over Jupyter, Pandas en matplotlib, waarmee tal van grafieken gemaakt kunnen worden.\n",
    "Een duidelijke cursus die de nodige uitleg geeft.<br>\n",
    "\n",
    "Importing Data from Microsoft Excel Files with Python\n",
    "by Gabriel Cánepa\n",
    "https://app.pluralsight.com/guides/importing-data-from-excel-with-python\n",
    "Gebruikt voor informatie over openpyxl en hoe hiermee data gelezen kan worden uit Excel files, alsook hoe data of grafieken weggeschreven kunnen worden naar een Excel file.\n",
    "Een korte cursus, met overzichtelijke code voorbeelden."
   ]
  },
  {
   "cell_type": "code",
   "execution_count": 1,
   "metadata": {},
   "outputs": [],
   "source": [
    "import openpyxl\n",
    "import matplotlib\n",
    "from Voetbal.Graphs import visual as visual\n",
    "from Voetbal.Spelertjes import Spelertjes"
   ]
  },
  {
   "cell_type": "markdown",
   "metadata": {},
   "source": [
    "import openpxl om data in te lezen en data weg te schrijven naar xlsx file<br>\n",
    "import methodes uit andere python files om later te gebruiken."
   ]
  },
  {
   "cell_type": "code",
   "execution_count": 2,
   "metadata": {},
   "outputs": [],
   "source": [
    "spelertjes = Spelertjes()\n",
    "graphs = visual()"
   ]
  },
  {
   "cell_type": "markdown",
   "metadata": {},
   "source": [
    "Maak objecten aan met de geïmporte objecten"
   ]
  },
  {
   "cell_type": "code",
   "execution_count": 3,
   "metadata": {},
   "outputs": [],
   "source": [
    "fileName = 'voetbal.xlsx'\n",
    "sheetName = 'gegevens'\n",
    "saveFileName = 'correct.xlsx'\n",
    "\n",
    "spelertjes.readFile(fileName, sheetName)\n",
    "spelertjes.writeFile(fileName, sheetName, saveFileName)\n",
    "\n",
    "fileName = saveFileName\n",
    "sheetName = \"grafiek\""
   ]
  },
  {
   "cell_type": "markdown",
   "metadata": {},
   "source": [
    "lees de excel file voetbal in en ga naar tab 'gegevens'. Maak deze file inorde (dubbele kolom verwijderen) en vul de data. Save daarna de file met de naam 'correct.xlsx'<br>\n",
    "De filename gaat daarna op de saveFileName gezet worden (zodat we het correcte bestand gebruiken met de juiste data op de juiste plaats). We veranderen ook de sheetname voordat we de methodes uitvoeren.<br>\n",
    "De grafieken zijn nu ook tezien in de excel file (in een veel minder goede vorm)"
   ]
  },
  {
   "cell_type": "code",
   "execution_count": 12,
   "metadata": {},
   "outputs": [],
   "source": [
    "def writeFile(self, fileName, sheetName, saveFileName):\n",
    "    wb = load_workbook(fileName)\n",
    "    ws = wb[sheetName]\n",
    "\n",
    "    font = Font(name='Calibri',size=12,bold=True)\n",
    "    header = [\"naam\", \"positie\", \"aantal gemaakte goalen\", \"geboortecategorie\", \"inzet\", \"gewicht\", \"lengte\",\"geboortedatum\"]\n",
    "\n",
    "    #fill the headers with the right values\n",
    "    for i in range(len(header)):\n",
    "        cellref = ws.cell(1,i+1)\n",
    "        cellref.value = header[i]\n",
    "        cellref.font = font\n",
    "        #clear last column\n",
    "        cellref = ws.cell(1,i+2)\n",
    "        cellref.value = None\n",
    "        \n",
    "        #fill gegevens with new generated values\n",
    "        for i in range(len(self.spelertjesValues)):\n",
    "            for j in range(len(self.spelertjesValues[i])):\n",
    "                cellref = ws.cell(row=i+2, column=j+1)\n",
    "                cellref.value = self.spelertjesValues[i][j]\n",
    "                #clear last column\n",
    "                cellref = ws.cell(row=i + 2, column=j + 2)\n",
    "                cellref.value = None\n",
    "\n",
    "        wb.save(saveFileName)\n",
    "\n",
    "#other code user to fill spelertjes (in comment so it doesnt do anything)\n",
    "#for row in ws.rows:\n",
    "        #     args = [cell.value for cell in row]\n",
    "        #     birthDate = self.generateBirth()\n",
    "        #     spelertje = Spelertje(args[0], args[2], args[3], self.returnCat(birthDate),self.effort[self.returnCat(birthDate)], args[6],args[7], birthDate)\n",
    "        #     self.spelertjesValues.append(spelertje.returnArray())\n",
    "        #     self.addSpeler(spelertje)"
   ]
  },
  {
   "cell_type": "markdown",
   "metadata": {},
   "source": [
    "    Om de date te vullen gebruiken we een methode generateBirth. Hier gaat er een random datum gegenereerd worden tussen  01-01-2011 en, 31-12-2011. We gebruiken dan deze datum om de categorie toe te wijzen aan het spelertje. Dit wordt gedaan met de methode returnCat. De volledige Code kan je op het einde terugvinden."
   ]
  },
  {
   "cell_type": "code",
   "execution_count": 5,
   "metadata": {},
   "outputs": [
    {
     "data": {
      "image/png": "[encoded data removed]",
      "text/plain": [
       "<Figure size 432x288 with 1 Axes>"
      ]
     },
     "metadata": {
      "needs_background": "light"
     },
     "output_type": "display_data"
    }
   ],
   "source": [
    "graphs.drawScatterChart(fileName, sheetName, fileName)"
   ]
  },
  {
   "cell_type": "markdown",
   "metadata": {},
   "source": [
    "plot the scatter chart"
   ]
  },
  {
   "cell_type": "code",
   "execution_count": 6,
   "metadata": {},
   "outputs": [
    {
     "data": {
      "image/png": "[encoded data removed]",
      "text/plain": [
       "<Figure size 432x288 with 1 Axes>"
      ]
     },
     "metadata": {
      "needs_background": "light"
     },
     "output_type": "display_data"
    }
   ],
   "source": [
    "graphs.drawBarChart(fileName,sheetName,fileName)"
   ]
  },
  {
   "cell_type": "markdown",
   "metadata": {},
   "source": [
    "<H3>Bespreking staafdiagram</H3><br>\n",
    "Per geboortecategorie, wordt er nog een opdeling gemaakt volgens positie (staart, linkervleugel, ...).\n",
    "Aan de hand van de beschikbare data, wordt vervolgens voor elke positie in elke geboortecategorie het aantal goals getekend met een staaf. Via de y-as is dan een schatting van het aantal goals zienbaar.\n",
    "Uit deze gegevens blijkt dat piloten bijna altijd de meeste goals scoren, op een gedeelde tweede plaats de linker- en rechtervleugel, op de derde plaats de staart en tot slot als laatste de keeper, die in deze dataset geen goals gescoord heeft."
   ]
  },
  {
   "cell_type": "code",
   "execution_count": 7,
   "metadata": {},
   "outputs": [
    {
     "name": "stdout",
     "output_type": "stream",
     "text": [
      "modus : \n",
      "staart :0\n",
      "linkervleugel :1\n",
      "rechtervleugel :1\n",
      "piloot :4\n",
      "keeper :0\n",
      "\n",
      "Average Goals : \n",
      "staart : 0.8\n",
      "linkervleugel : 1.6\n",
      "rechtervleugel : 1.6\n",
      "piloot : 4.0\n",
      "keeper : 0.0\n"
     ]
    }
   ],
   "source": [
    "graphs.averageAndModus(fileName)"
   ]
  },
  {
   "cell_type": "markdown",
   "metadata": {},
   "source": [
    "<h3>Bepsreking modus en gemiddelde</h3><br>\n",
    "Aan de hand van deze gegevens kunnen we zien dat het meeste voorkomde aantal gemaakte goals bij de keepers en bij de staart 0 is, bij de linker en de rechtervleugel 1 is en bij de piloot 4. <br>\n",
    "het gemmiddelde van de aantal gemaakte goals per positie is voor de staart 0.8, voor de linker-en rechtervleugel 1.6, voor de keepers 0 en voor de piloot 4. Zo kunnen we vaststellen dat de piloot het belangrijkste is bij het aantal gemaakte goals. "
   ]
  },
  {
   "cell_type": "code",
   "execution_count": 8,
   "metadata": {
    "scrolled": true
   },
   "outputs": [
    {
     "name": "stdout",
     "output_type": "stream",
     "text": [
      "Kwartiel 1 : 22.075000000000003\n",
      "standaard afwijking : 2.8691211197856394\n"
     ]
    }
   ],
   "source": [
    "graphs.calculateQuartileAndStd(fileName)"
   ]
  },
  {
   "cell_type": "markdown",
   "metadata": {},
   "source": [
    "//TODO bespreek"
   ]
  },
  {
   "cell_type": "code",
   "execution_count": 9,
   "metadata": {},
   "outputs": [
    {
     "data": {
      "image/png": "[encoded data removed]",
      "text/plain": [
       "<Figure size 432x288 with 1 Axes>"
      ]
     },
     "metadata": {
      "needs_background": "light"
     },
     "output_type": "display_data"
    }
   ],
   "source": [
    "graphs.drawBoxPlot(fileName)"
   ]
  },
  {
   "cell_type": "code",
   "execution_count": null,
   "metadata": {},
   "outputs": [],
   "source": [
    "//TODO bespreek"
   ]
  },
  {
   "cell_type": "markdown",
   "metadata": {},
   "source": [
    "Hier is de bijgevoegde code die we geschreven hebben ter verduidelijking."
   ]
  },
  {
   "cell_type": "code",
   "execution_count": 1,
   "metadata": {},
   "outputs": [],
   "source": [
    "from openpyxl import load_workbook\n",
    "from openpyxl.chart.series import Series\n",
    "import matplotlib.pyplot as plt\n",
    "import numpy as np\n",
    "import pandas as pd\n",
    "from Voetbal.Spelertjes import Spelertjes\n",
    "from openpyxl.chart import (\n",
    "    ScatterChart,\n",
    "    Reference,\n",
    "    Series,\n",
    "    marker,\n",
    "    BarChart\n",
    ")\n",
    "\n",
    "class visual:\n",
    "\n",
    "    def drawScatterChart(self, fileName, sheetName, saveFileName = None):\n",
    "\n",
    "        if saveFileName is None:\n",
    "            saveFileName = fileName\n",
    "\n",
    "        wb = load_workbook(fileName)\n",
    "        ws = wb['gegevens']\n",
    "\n",
    "        chart = ScatterChart()\n",
    "        chart.title = \"Scatter Chart\"\n",
    "        chart.style = 13\n",
    "        chart.x_axis.scaling.min = 19\n",
    "        chart.x_axis.scaling.max = 31\n",
    "        chart.y_axis.scaling.min = 110\n",
    "        chart.y_axis.scaling.max = 140\n",
    "        chart.x_axis.title = 'gewicht'\n",
    "        chart.y_axis.title = 'lengte'\n",
    "\n",
    "        chart.legend = None\n",
    "\n",
    "        xvalues = Reference(ws, min_col=6, min_row=2, max_row=101)\n",
    "        values = Reference(ws, min_col=7, min_row=2, max_row=101)\n",
    "        #fill x and y, skip first\n",
    "        x=[]\n",
    "        y=[]\n",
    "        iterrows = iter(ws.rows)\n",
    "        next(iterrows)\n",
    "        for row in iterrows:\n",
    "            x.append(row[5].value)\n",
    "            y.append(row[6].value)\n",
    "\n",
    "        series = Series(values, xvalues)\n",
    "        series.graphicalProperties.line.noFill = True\n",
    "\n",
    "        series.marker = marker.Marker('circle', 5.2)\n",
    "\n",
    "        chart.series.append(series)\n",
    "\n",
    "        # Style the lines\n",
    "        s1 = chart.series[0]\n",
    "        s1.marker.symbol = \"circle\"\n",
    "        s1.marker.graphicalProperties.solidFill = \"4076A9\"  # Marker filling\n",
    "        s1.marker.graphicalProperties.line.solidFill = \"4076A9\"  # Marker outline\n",
    "\n",
    "        s1.graphicalProperties.line.noFill = True\n",
    "\n",
    "        ws = wb[sheetName]\n",
    "\n",
    "        ws.add_chart(chart, \"L7\")\n",
    "\n",
    "        wb.save(saveFileName)\n",
    "\n",
    "        area = np.pi * 20\n",
    "        plt.scatter(x, y, s=area, alpha=1)\n",
    "        plt.xlabel(\"gewicht\")\n",
    "        plt.ylabel(\"lengte\")\n",
    "        plt.grid(True,alpha=0.5)\n",
    "        plt.axis([19,31,110,140])\n",
    "        plt.show()\n",
    "\n",
    "\n",
    "    def drawBarChart(self, fileName, sheetName, saveFileName = None):\n",
    "        spelertjes = Spelertjes()\n",
    "        if saveFileName is None:\n",
    "            saveFileName = fileName\n",
    "        #read all the data using openpyxl and write data to grafiek tab\n",
    "        wb = load_workbook(fileName)\n",
    "        ws = wb['gegevens']\n",
    "\n",
    "\n",
    "        goals = {\"staart\":{1:0,2:0,3:0,4:0}, \"linkervleugel\":{1:0,2:0,3:0,4:0},\"rechtervleugel\":{1:0,2:0,3:0,4:0},\n",
    "                 \"piloot\":{1:0,2:0,3:0,4:0},\"keeper\":{1:0,2:0,3:0,4:0}}\n",
    "\n",
    "        positions = [\"staart\",\"linkervleuger\",\"rechtervleuger\",\"piloot\",\"keeper\"]\n",
    "\n",
    "        iterrows = iter(ws.rows)\n",
    "        next(iterrows)\n",
    "\n",
    "        for row in iterrows:\n",
    "            position = goals[row[1].value]\n",
    "            position[row[3].value] += row[2].value\n",
    "            goals[row[1].value] = position\n",
    "        ws = wb['grafiek']\n",
    "\n",
    "        for i in range(2,6):\n",
    "            cellref = ws.cell(1, i)\n",
    "            cellref.value = i - 1\n",
    "\n",
    "        for i in range(2,7):\n",
    "            cellref = ws.cell(i, 1)\n",
    "            cellref.value = positions[i-2]\n",
    "        row = 2\n",
    "\n",
    "        for i in goals.values():\n",
    "            column = 2\n",
    "            for j in i.values():\n",
    "                cellref = ws.cell(row, column)\n",
    "                cellref.value = j\n",
    "                column += 1\n",
    "            row += 1\n",
    "\n",
    "        chart1 = BarChart()\n",
    "        chart1.type = \"col\"\n",
    "        chart1.style = 10\n",
    "        chart1.title = \"goals per position per birth cat\"\n",
    "        chart1.y_axis.title = 'goals'\n",
    "        chart1.x_axis.title = 'position'\n",
    "\n",
    "        data = Reference(ws, min_col=2, min_row=1, max_row=6, max_col=5)\n",
    "        cats = Reference(ws, min_col=1, min_row=1 , max_row=6)\n",
    "        chart1.add_data(data,titles_from_data=True)\n",
    "        chart1.set_categories(cats)\n",
    "        chart1.shape = 4\n",
    "        ws.add_chart(chart1, \"C24\")\n",
    "        wb.save(saveFileName)\n",
    "\n",
    "        pd.DataFrame(goals).plot(kind='bar')\n",
    "        plt.xlabel(\"geboortecategorie\")\n",
    "        plt.ylabel(\"aantal gemaakte goals\")\n",
    "        plt.grid(True, alpha=0.5)\n",
    "        plt.show()\n",
    "\n",
    "\n",
    "\n",
    "    def averageAndModus(self, fileName,):\n",
    "        # read all the data using openpyxl and write data to grafiek tab\n",
    "        wb = load_workbook(fileName)\n",
    "        ws = wb['gegevens']\n",
    "\n",
    "        goals = {\"staart\": 0, \"linkervleugel\": 0,\n",
    "                 \"rechtervleugel\": 0,\n",
    "                 \"piloot\": 0, \"keeper\": 0}\n",
    "\n",
    "        # count amount of players in cat | is always 20 but just in case it changes...\n",
    "        goalsCounter = {\"staart\": 0, \"linkervleugel\": 0,\n",
    "                 \"rechtervleugel\": 0,\n",
    "                 \"piloot\": 0, \"keeper\": 0}\n",
    "\n",
    "        averageGoals = {\"staart\": 0, \"linkervleugel\": 0,\n",
    "                 \"rechtervleugel\": 0,\n",
    "                 \"piloot\": 0, \"keeper\": 0}\n",
    "\n",
    "        modus = {\"staart\":{0:0,1:0,2:0,3:0,4:0,5:0,6:0,7:0,8:0}, \"linkervleugel\":{0:0,1:0,2:0,3:0,4:0,5:0,6:0,7:0,8:0},\n",
    "                 \"rechtervleugel\":{0:0,1:0,2:0,3:0,4:0,5:0,6:0,7:0,8:0},\n",
    "                 \"piloot\":{0:0,1:0,2:0,3:0,4:0,5:0,6:0,7:0,8:0},\"keeper\":\n",
    "                     {0:0,1:0,2:0,3:0,4:0,5:0,6:0,7:0,8:0}}\n",
    "\n",
    "        iterrows = iter(ws.rows)\n",
    "        next(iterrows)\n",
    "        for row in iterrows:\n",
    "            temp = modus[row[1].value]\n",
    "            temp[row[2].value] += 1\n",
    "            modus[row[1].value] = temp\n",
    "            goalsCounter[row[1].value] += 1\n",
    "            goals[row[1].value] += row[2].value\n",
    "\n",
    "\n",
    "        for i in goals:\n",
    "            averageGoals[i] = goals[i]/goalsCounter[i]\n",
    "        #still need to write this to excel file\n",
    "        print(\"modus : \")\n",
    "        for pos in modus:\n",
    "            print(str(pos)+ \" :\"+ str(max(modus[pos], key=modus[pos].get)))\n",
    "        print()\n",
    "        print(\"Average Goals : \")\n",
    "        for goal in averageGoals:\n",
    "            print(str(goal) + \" : \" + str(averageGoals[goal]))\n",
    "\n",
    "    def calculateQuartileAndStd(self,fileName):\n",
    "            # read all the data using openpyxl and write data to grafiek tab\n",
    "        wb = load_workbook(fileName)\n",
    "        ws = wb['gegevens']\n",
    "\n",
    "        data = []\n",
    "        #skip first row\n",
    "        iterrows = iter(ws.rows)\n",
    "        next(iterrows)\n",
    "        for row in iterrows:\n",
    "            data.append(row[5].value)\n",
    "        #calculate std and quartile 1\n",
    "        print(\"Kwartiel 1 : \" + str(np.percentile(data,25)))\n",
    "        print(\"standaard afwijking : \" + str(np.std(data)))\n",
    "\n",
    "    def drawBoxPlot(self,fileName):\n",
    "        wb = load_workbook(fileName)\n",
    "        ws = wb['gegevens']\n",
    "\n",
    "        data = {\"linkervleugel\":0,\"rechtervleugel\":0,\"piloot\":0}\n",
    "        iterrows = iter(ws.rows)\n",
    "        next(iterrows)\n",
    "        for row in iterrows:\n",
    "            pos = row[1].value\n",
    "            if pos == \"piloot\" or pos == \"linkervleugel\" or pos == \"rechtervleugel\":\n",
    "                data[row[1].value] += row[2].value\n",
    "\n",
    "        plt.boxplot(data.values(), 0, 'rs', 0)\n",
    "        plt.title(\"Boxplot\")\n",
    "        plt.xlabel(\"aantal gemaakte goals\")\n",
    "        plt.show()\n",
    "\n",
    "    def drawPieChart(self, fileName):\n",
    "        wb = load_workbook(fileName)\n",
    "        ws = wb['gegevens']\n",
    "\n",
    "        data = {\"matig\": 0, \"goed\": 0, \"zeer goed\": 0}\n",
    "        iterrows = iter(ws.rows)\n",
    "        next(iterrows)\n",
    "\n",
    "        total = 0\n",
    "\n",
    "        for row in iterrows:\n",
    "            inzet = row[4].value\n",
    "\n",
    "            # Check for possible incorrect values\n",
    "            if inzet == \"matig\" \\\n",
    "                    or inzet == \"goed\" \\\n",
    "                    or inzet == \"zeer goed\":\n",
    "                data[inzet] += 1\n",
    "                total += 1\n",
    "\n",
    "        fig, ax1 = plt.subplots(figsize=(6, 3), subplot_kw=dict(aspect=\"equal\"))\n",
    "\n",
    "        ax1.pie(data.values(), explode=(0, 0, 0), labels=data.keys(), autopct='%1.1f%%',\n",
    "                shadow=True, startangle=90)\n",
    "        ax1.axis('equal')\n",
    "\n",
    "        plt.show()\n"
   ]
  },
  {
   "cell_type": "code",
   "execution_count": 2,
   "metadata": {},
   "outputs": [],
   "source": [
    "import random\n",
    "import datetime\n",
    "from openpyxl import load_workbook\n",
    "from openpyxl.styles import Font\n",
    "\n",
    "\n",
    "class Spelertje:\n",
    "    def __init__(self, name, position, goals, birthCat, effort, weight, length,birthDate):\n",
    "        self.name = name\n",
    "        self.position= position\n",
    "        self.goals = goals\n",
    "        self.birthCat = birthCat\n",
    "        self.effort = effort\n",
    "        self.weight = weight\n",
    "        self.length = length\n",
    "        self.birthDate= birthDate\n",
    "\n",
    "    def returnArray(self):\n",
    "        return [self.name, self.position, self.goals, self.birthCat, self.effort, self.weight, self.length,self.birthDate]\n",
    "\n",
    "    def __str__(self):\n",
    "        return str(self.name) + \" - \" + str(self.position) + \" - \" + str(self.goals) + \" - \" + \\\n",
    "               str(self.birthCat) + \" - \" + str(self.effort) + \" - \" + str(self.weight) + \" - \" + str(self.length + \"-\" + str(self.birthDate))\n",
    "\n",
    "class Spelertjes:\n",
    "    def __init__(self):\n",
    "        self.spelertjes = []\n",
    "        self.effort = {1:\"zeer goed\", 2 : \"goed\", 3:\"goed\",4:\"matig\"}\n",
    "        self.spelertjesValues = []\n",
    "\n",
    "    def addSpeler(self, spelertje):\n",
    "        self.spelertjes.append(spelertje)\n",
    "\n",
    "    def returnCat(self, date):\n",
    "        day =  date.timetuple().tm_yday\n",
    "        if day <= 90:\n",
    "            return 1\n",
    "        if day <= 181:\n",
    "            return 2\n",
    "        if day <= 273:\n",
    "            return 3\n",
    "        if day <= 365:\n",
    "            return 4\n",
    "\n",
    "    def readFile(self, fileName, sheetName):\n",
    "        wb = load_workbook(fileName)\n",
    "        ws = wb[sheetName]\n",
    "\n",
    "        for row in ws.rows:\n",
    "            args = [cell.value for cell in row]\n",
    "            birthDate = self.generateBirth()\n",
    "            spelertje = Spelertje(args[0], args[2], args[3], self.returnCat(birthDate),self.effort[self.returnCat(birthDate)], args[6],args[7], birthDate)\n",
    "            self.spelertjesValues.append(spelertje.returnArray())\n",
    "            self.addSpeler(spelertje)\n",
    "\n",
    "        self.spelertjes.remove(self.spelertjes[0])\n",
    "        self.spelertjesValues.remove(self.spelertjesValues[0])\n",
    "\n",
    "    def writeFile(self, fileName, sheetName, saveFileName):\n",
    "        wb = load_workbook(fileName)\n",
    "        ws = wb[sheetName]\n",
    "\n",
    "        font = Font(name='Calibri',size=12,bold=True)\n",
    "        header = [\"naam\", \"positie\", \"aantal gemaakte goalen\", \"geboortecategorie\", \"inzet\", \"gewicht\", \"lengte\",\"geboortedatum\"]\n",
    "\n",
    "        #fill the headers with the right values\n",
    "        for i in range(len(header)):\n",
    "            cellref = ws.cell(1,i+1)\n",
    "            cellref.value = header[i]\n",
    "            cellref.font = font\n",
    "            #clear last column\n",
    "            cellref = ws.cell(1,i+2)\n",
    "            cellref.value = None\n",
    "\n",
    "        #fill gegevens with new generated values\n",
    "        for i in range(len(self.spelertjesValues)):\n",
    "            for j in range(len(self.spelertjesValues[i])):\n",
    "                cellref = ws.cell(row=i+2, column=j+1)\n",
    "                cellref.value = self.spelertjesValues[i][j]\n",
    "                #clear last column\n",
    "                cellref = ws.cell(row=i + 2, column=j + 2)\n",
    "                cellref.value = None\n",
    "\n",
    "        wb.save(saveFileName)\n",
    "\n",
    "    def generateBirth(self):\n",
    "        startdate = datetime.date(2011, 1, 1)\n",
    "        date = startdate + datetime.timedelta(random.randint(1,365))\n",
    "        return date\n"
   ]
  }
 ],
 "metadata": {
  "kernelspec": {
   "display_name": "Python 3",
   "language": "python",
   "name": "python3"
  },
  "language_info": {
   "codemirror_mode": {
    "name": "ipython",
    "version": 3
   },
   "file_extension": ".py",
   "mimetype": "text/x-python",
   "name": "python",
   "nbconvert_exporter": "python",
   "pygments_lexer": "ipython3",
   "version": "3.7.3"
  }
 },
 "nbformat": 4,
 "nbformat_minor": 2
}
