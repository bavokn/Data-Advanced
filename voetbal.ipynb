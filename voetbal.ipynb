{
 "cells": [
  {
   "cell_type": "code",
   "execution_count": 36,
   "metadata": {},
   "outputs": [],
   "source": [
    "import openpyxl\n",
    "import matplotlib\n",
    "from Voetbal.Graphs import visual as visual\n",
    "from Voetbal.Spelertjes import Spelertjes"
   ]
  },
  {
   "cell_type": "markdown",
   "metadata": {},
   "source": [
    "import openpxl om data in te lezen en data weg te schrijven naar xlsx file<br>\n",
    "import methodes uit andere python files om later te gebruiken."
   ]
  },
  {
   "cell_type": "code",
   "execution_count": 30,
   "metadata": {},
   "outputs": [],
   "source": [
    "spelertjes = Spelertjes()\n",
    "graphs = visual()"
   ]
  },
  {
   "cell_type": "markdown",
   "metadata": {},
   "source": [
    "Maak objecten aan met de geïmporte objecten"
   ]
  },
  {
   "cell_type": "code",
   "execution_count": 31,
   "metadata": {},
   "outputs": [],
   "source": [
    "fileName = 'voetbal.xlsx'\n",
    "sheetName = 'gegevens'\n",
    "saveFileName = 'correct.xlsx'\n",
    "\n",
    "spelertjes.readFile(fileName, sheetName)\n",
    "spelertjes.writeFile(fileName, sheetName, saveFileName)"
   ]
  },
  {
   "cell_type": "markdown",
   "metadata": {},
   "source": [
    "lees de excel file voetbal in en ga naar tab 'gegevens'. Maak deze file inorde (dubbele kolom verwijderen) en vul de data. Save daarna de file met de naam 'correct.xlsx'"
   ]
  },
  {
   "cell_type": "code",
   "execution_count": 33,
   "metadata": {},
   "outputs": [
    {
     "name": "stdout",
     "output_type": "stream",
     "text": [
      "modus : 0\n",
      "Average Goals : \n",
      "{'staart': 0.8, 'linkervleugel': 1.6, 'rechtervleugel': 1.6, 'piloot': 4.0, 'keeper': 0.0}\n"
     ]
    }
   ],
   "source": [
    "graphs.averageAndModus(fileName,sheetName,fileName)"
   ]
  }
 ],
 "metadata": {
  "kernelspec": {
   "display_name": "Python 3",
   "language": "python",
   "name": "python3"
  },
  "language_info": {
   "codemirror_mode": {
    "name": "ipython",
    "version": 3
   },
   "file_extension": ".py",
   "mimetype": "text/x-python",
   "name": "python",
   "nbconvert_exporter": "python",
   "pygments_lexer": "ipython3",
   "version": "3.7.3"
  }
 },
 "nbformat": 4,
 "nbformat_minor": 2
}
