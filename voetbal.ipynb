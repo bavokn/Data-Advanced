{
 "cells": [
  {
   "cell_type": "markdown",
   "metadata": {},
   "source": [
    "##### Gebruikte pluralsight courses\n",
    "\n",
    "Introduction to Data Visualization with Python<br>\n",
    "by YK Sugi<br>\n",
    "https://app.pluralsight.com/library/courses/data-visualization-with-python-introduction/table-of-contents<br>\n",
    "Gebruikt voor informatie over Jupyter, Pandas en matplotlib, waarmee tal van grafieken gemaakt kunnen worden.<br>\n",
    "Een duidelijke cursus die de nodige uitleg geeft.<br>\n",
    "<br>\n",
    "Importing Data from Microsoft Excel Files with Python<br>\n",
    "by Gabriel Cánepa<br>\n",
    "https://app.pluralsight.com/guides/importing-data-from-excel-with-python<br>\n",
    "Gebruikt voor informatie over openpyxl en hoe hiermee data gelezen kan worden uit Excel files, alsook hoe data of grafieken weggeschreven kunnen worden naar een Excel file.<br>\n",
    "Een korte cursus, met overzichtelijke code voorbeelden.<br>"
   ]
  },
  {
   "cell_type": "code",
   "execution_count": 1,
   "metadata": {},
   "outputs": [],
   "source": [
    "import openpyxl\n",
    "import matplotlib\n",
    "from Voetbal.Graphs import visual as visual\n",
    "from Voetbal.Spelertjes import Spelertjes"
   ]
  },
  {
   "cell_type": "markdown",
   "metadata": {},
   "source": [
    "Import openpxl om data in te lezen en data weg te schrijven naar xlsx file.<br>\n",
    "Import methodes uit andere python files om later te gebruiken."
   ]
  },
  {
   "cell_type": "code",
   "execution_count": 2,
   "metadata": {},
   "outputs": [],
   "source": [
    "spelertjes = Spelertjes()\n",
    "graphs = visual()"
   ]
  },
  {
   "cell_type": "markdown",
   "metadata": {},
   "source": [
    "Maak objecten aan met de geïmporteerde objecten."
   ]
  },
  {
   "cell_type": "code",
   "execution_count": 3,
   "metadata": {},
   "outputs": [],
   "source": [
    "fileName = 'voetbal.xlsx'\n",
    "sheetName = 'gegevens'\n",
    "saveFileName = 'correct.xlsx'\n",
    "\n",
    "spelertjes.readFile(fileName, sheetName)\n",
    "spelertjes.writeFile(fileName, sheetName, saveFileName)\n",
    "\n",
    "fileName = saveFileName\n",
    "sheetName = \"grafiek\""
   ]
  },
  {
   "cell_type": "markdown",
   "metadata": {},
   "source": [
    "Lees de excel file \"voetbal.xlsx\" in en ga naar tab 'gegevens'. Maak deze file inorde (dubbele kolom verwijderen) en vul de data. Save daarna de file met de naam 'correct.xlsx'.<br>\n",
    "De filename gaat daarna op de saveFileName gezet worden (zodat we het correcte bestand gebruiken met de juiste data op de juiste plaats). We veranderen ook de sheetname voordat we de methodes uitvoeren.<br>\n",
    "De grafieken zijn nu ook tezien in de excel file (in een iets minder goede vorm)."
   ]
  },
  {
   "cell_type": "code",
   "execution_count": 4,
   "metadata": {},
   "outputs": [],
   "source": [
    "def writeFile(self, fileName, sheetName, saveFileName):\n",
    "    wb = load_workbook(fileName)\n",
    "    ws = wb[sheetName]\n",
    "\n",
    "    font = Font(name='Calibri',size=12,bold=True)\n",
    "    header = [\"naam\", \"positie\", \"aantal gemaakte goalen\", \"geboortecategorie\", \"inzet\", \"gewicht\", \"lengte\",\"geboortedatum\"]\n",
    "\n",
    "    # fill the headers with the right values\n",
    "    for i in range(len(header)):\n",
    "        cellref = ws.cell(1,i+1)\n",
    "        cellref.value = header[i]\n",
    "        cellref.font = font\n",
    "        # clear last column\n",
    "        cellref = ws.cell(1,i+2)\n",
    "        cellref.value = None\n",
    "        \n",
    "        # fill data on tab 'gegevens' with new generated values\n",
    "        for i in range(len(self.spelertjesValues)):\n",
    "            for j in range(len(self.spelertjesValues[i])):\n",
    "                cellref = ws.cell(row=i+2, column=j+1)\n",
    "                cellref.value = self.spelertjesValues[i][j]\n",
    "                # clear last column\n",
    "                cellref = ws.cell(row=i + 2, column=j + 2)\n",
    "                cellref.value = None\n",
    "\n",
    "        wb.save(saveFileName)\n",
    "\n",
    "    # other code used to fill spelertjes (commented so it doesn't do anything)\n",
    "    # for row in ws.rows:\n",
    "        #     args = [cell.value for cell in row]\n",
    "        #     birthDate = self.generateBirth()\n",
    "        #     spelertje = Spelertje(args[0], args[2], args[3], self.returnCat(birthDate),self.effort[self.returnCat(birthDate)], args[6],args[7], birthDate)\n",
    "        #     self.spelertjesValues.append(spelertje.returnArray())\n",
    "        #     self.addSpeler(spelertje)"
   ]
  },
  {
   "cell_type": "markdown",
   "metadata": {},
   "source": [
    "#### TODO hoe gegeneerd "
   ]
  },
  {
   "cell_type": "code",
   "execution_count": 5,
   "metadata": {},
   "outputs": [
    {
     "data": {
      "image/png": "[encoded data removed]",
      "text/plain": [
       "<Figure size 432x288 with 1 Axes>"
      ]
     },
     "metadata": {
      "needs_background": "light"
     },
     "output_type": "display_data"
    }
   ],
   "source": [
    "graphs.drawScatterChart(fileName, sheetName, fileName)"
   ]
  },
  {
   "cell_type": "markdown",
   "metadata": {},
   "source": [
    "Plot the scatter chart."
   ]
  },
  {
   "cell_type": "code",
   "execution_count": 6,
   "metadata": {},
   "outputs": [
    {
     "data": {
      "image/png": "[encoded data removed]",
      "text/plain": [
       "<Figure size 432x288 with 1 Axes>"
      ]
     },
     "metadata": {
      "needs_background": "light"
     },
     "output_type": "display_data"
    }
   ],
   "source": [
    "graphs.drawBarChart(fileName,sheetName,fileName)"
   ]
  },
  {
   "cell_type": "markdown",
   "metadata": {},
   "source": [
    "#### TODO bespreek<br>\n",
    "Plot the barchart."
   ]
  },
  {
   "cell_type": "code",
   "execution_count": 7,
   "metadata": {},
   "outputs": [
    {
     "name": "stdout",
     "output_type": "stream",
     "text": [
      "modus : \n",
      "staart :0\n",
      "linkervleugel :1\n",
      "rechtervleugel :1\n",
      "piloot :4\n",
      "keeper :0\n",
      "\n",
      "Average Goals : \n",
      "staart : 0.8\n",
      "linkervleugel : 1.6\n",
      "rechtervleugel : 1.6\n",
      "piloot : 4.0\n",
      "keeper : 0.0\n"
     ]
    }
   ],
   "source": [
    "graphs.averageAndModus(fileName)"
   ]
  },
  {
   "cell_type": "markdown",
   "metadata": {},
   "source": [
    "#### TODO bespreek verder<br>\n",
    "Print out the averages and modus per position."
   ]
  },
  {
   "cell_type": "code",
   "execution_count": 8,
   "metadata": {
    "scrolled": true
   },
   "outputs": [
    {
     "name": "stdout",
     "output_type": "stream",
     "text": [
      "Kwartiel 1 : 22.075000000000003\n",
      "standaard afwijking : 2.8691211197856394\n"
     ]
    }
   ],
   "source": [
    "graphs.calculateQuartileAndStd(fileName)"
   ]
  },
  {
   "cell_type": "markdown",
   "metadata": {},
   "source": [
    "#### TODO bespreek"
   ]
  },
  {
   "cell_type": "code",
   "execution_count": 10,
   "metadata": {},
   "outputs": [
    {
     "ename": "AttributeError",
     "evalue": "'visual' object has no attribute 'drawPieChart'",
     "output_type": "error",
     "traceback": [
      "\u001b[0;31m---------------------------------------------------------------------------\u001b[0m",
      "\u001b[0;31mAttributeError\u001b[0m                            Traceback (most recent call last)",
      "\u001b[0;32m<ipython-input-10-4f8ffcbcb72f>\u001b[0m in \u001b[0;36m<module>\u001b[0;34m\u001b[0m\n\u001b[0;32m----> 1\u001b[0;31m \u001b[0mgraphs\u001b[0m\u001b[0;34m.\u001b[0m\u001b[0mdrawPieChart\u001b[0m\u001b[0;34m(\u001b[0m\u001b[0mfileName\u001b[0m\u001b[0;34m)\u001b[0m\u001b[0;34m\u001b[0m\u001b[0;34m\u001b[0m\u001b[0m\n\u001b[0m",
      "\u001b[0;31mAttributeError\u001b[0m: 'visual' object has no attribute 'drawPieChart'"
     ]
    }
   ],
   "source": [
    "graphs.drawPieChart(fileName)"
   ]
  },
  {
   "cell_type": "code",
   "execution_count": 9,
   "metadata": {},
   "outputs": [
    {
     "data": {
      "image/png": "[encoded data removed]",
      "text/plain": [
       "<Figure size 432x288 with 1 Axes>"
      ]
     },
     "metadata": {
      "needs_background": "light"
     },
     "output_type": "display_data"
    }
   ],
   "source": [
    "graphs.drawBoxPlot(fileName)"
   ]
  },
  {
   "cell_type": "markdown",
   "metadata": {},
   "source": [
    "#### TODO bespreek<br>\n",
    "#### Welk soort gegeven (van de 4 besproken in de cursus) is 'aantal gemaakte goalen', 'inzet' en 'gewicht'\n",
    "'aantal gemaakte goalen' is een kwantitatief gegeven, meer specifiek een discreet gegeven.\n",
    "'inzet' is een kwalitatief gegeven, meer specifiek een ordinaal gegeven.\n",
    "'gewicht' is een kwantitatief gegeven, meer specifiek een continu gegeven."
   ]
  },
  {
   "cell_type": "code",
   "execution_count": null,
   "metadata": {},
   "outputs": [],
   "source": []
  }
 ],
 "metadata": {
  "kernelspec": {
   "display_name": "Python 3",
   "language": "python",
   "name": "python3"
  },
  "language_info": {
   "codemirror_mode": {
    "name": "ipython",
    "version": 3
   },
   "file_extension": ".py",
   "mimetype": "text/x-python",
   "name": "python",
   "nbconvert_exporter": "python",
   "pygments_lexer": "ipython3",
   "version": "3.7.1"
  }
 },
 "nbformat": 4,
 "nbformat_minor": 2
}
